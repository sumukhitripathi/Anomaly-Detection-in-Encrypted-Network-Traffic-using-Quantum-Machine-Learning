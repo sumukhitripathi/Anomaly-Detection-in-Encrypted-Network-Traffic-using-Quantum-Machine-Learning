{
 "cells": [
  {
   "cell_type": "code",
   "execution_count": 6,
   "id": "806949f6",
   "metadata": {},
   "outputs": [
    {
     "name": "stderr",
     "output_type": "stream",
     "text": [
      "Training VQC:   3%|▎         | 1/30 [00:03<01:51,  3.84s/it]"
     ]
    },
    {
     "name": "stdout",
     "output_type": "stream",
     "text": [
      "Epoch 1: Train Accuracy = 0.825\n"
     ]
    },
    {
     "name": "stderr",
     "output_type": "stream",
     "text": [
      "Training VQC:   7%|▋         | 2/30 [00:05<01:19,  2.84s/it]"
     ]
    },
    {
     "name": "stdout",
     "output_type": "stream",
     "text": [
      "Epoch 2: Train Accuracy = 0.825\n"
     ]
    },
    {
     "name": "stderr",
     "output_type": "stream",
     "text": [
      "Training VQC:  10%|█         | 3/30 [00:08<01:14,  2.75s/it]"
     ]
    },
    {
     "name": "stdout",
     "output_type": "stream",
     "text": [
      "Epoch 3: Train Accuracy = 0.825\n"
     ]
    },
    {
     "name": "stderr",
     "output_type": "stream",
     "text": [
      "Training VQC:  13%|█▎        | 4/30 [00:11<01:12,  2.78s/it]"
     ]
    },
    {
     "name": "stdout",
     "output_type": "stream",
     "text": [
      "Epoch 4: Train Accuracy = 0.825\n"
     ]
    },
    {
     "name": "stderr",
     "output_type": "stream",
     "text": [
      "Training VQC:  17%|█▋        | 5/30 [00:14<01:09,  2.78s/it]"
     ]
    },
    {
     "name": "stdout",
     "output_type": "stream",
     "text": [
      "Epoch 5: Train Accuracy = 0.825\n"
     ]
    },
    {
     "name": "stderr",
     "output_type": "stream",
     "text": [
      "Training VQC:  20%|██        | 6/30 [00:16<01:03,  2.63s/it]"
     ]
    },
    {
     "name": "stdout",
     "output_type": "stream",
     "text": [
      "Epoch 6: Train Accuracy = 0.825\n"
     ]
    },
    {
     "name": "stderr",
     "output_type": "stream",
     "text": [
      "Training VQC:  23%|██▎       | 7/30 [00:18<00:56,  2.46s/it]"
     ]
    },
    {
     "name": "stdout",
     "output_type": "stream",
     "text": [
      "Epoch 7: Train Accuracy = 0.825\n"
     ]
    },
    {
     "name": "stderr",
     "output_type": "stream",
     "text": [
      "Training VQC:  27%|██▋       | 8/30 [00:21<00:54,  2.46s/it]"
     ]
    },
    {
     "name": "stdout",
     "output_type": "stream",
     "text": [
      "Epoch 8: Train Accuracy = 0.825\n"
     ]
    },
    {
     "name": "stderr",
     "output_type": "stream",
     "text": [
      "Training VQC:  30%|███       | 9/30 [00:23<00:49,  2.35s/it]"
     ]
    },
    {
     "name": "stdout",
     "output_type": "stream",
     "text": [
      "Epoch 9: Train Accuracy = 0.825\n"
     ]
    },
    {
     "name": "stderr",
     "output_type": "stream",
     "text": [
      "Training VQC:  33%|███▎      | 10/30 [00:25<00:46,  2.33s/it]"
     ]
    },
    {
     "name": "stdout",
     "output_type": "stream",
     "text": [
      "Epoch 10: Train Accuracy = 0.825\n"
     ]
    },
    {
     "name": "stderr",
     "output_type": "stream",
     "text": [
      "Training VQC:  37%|███▋      | 11/30 [00:27<00:44,  2.33s/it]"
     ]
    },
    {
     "name": "stdout",
     "output_type": "stream",
     "text": [
      "Epoch 11: Train Accuracy = 0.825\n"
     ]
    },
    {
     "name": "stderr",
     "output_type": "stream",
     "text": [
      "Training VQC:  40%|████      | 12/30 [00:30<00:41,  2.29s/it]"
     ]
    },
    {
     "name": "stdout",
     "output_type": "stream",
     "text": [
      "Epoch 12: Train Accuracy = 0.825\n"
     ]
    },
    {
     "name": "stderr",
     "output_type": "stream",
     "text": [
      "Training VQC:  43%|████▎     | 13/30 [00:32<00:40,  2.37s/it]"
     ]
    },
    {
     "name": "stdout",
     "output_type": "stream",
     "text": [
      "Epoch 13: Train Accuracy = 0.825\n"
     ]
    },
    {
     "name": "stderr",
     "output_type": "stream",
     "text": [
      "Training VQC:  47%|████▋     | 14/30 [00:35<00:38,  2.40s/it]"
     ]
    },
    {
     "name": "stdout",
     "output_type": "stream",
     "text": [
      "Epoch 14: Train Accuracy = 0.825\n"
     ]
    },
    {
     "name": "stderr",
     "output_type": "stream",
     "text": [
      "Training VQC:  50%|█████     | 15/30 [00:37<00:35,  2.34s/it]"
     ]
    },
    {
     "name": "stdout",
     "output_type": "stream",
     "text": [
      "Epoch 15: Train Accuracy = 0.825\n"
     ]
    },
    {
     "name": "stderr",
     "output_type": "stream",
     "text": [
      "Training VQC:  53%|█████▎    | 16/30 [00:39<00:34,  2.43s/it]"
     ]
    },
    {
     "name": "stdout",
     "output_type": "stream",
     "text": [
      "Epoch 16: Train Accuracy = 0.825\n"
     ]
    },
    {
     "name": "stderr",
     "output_type": "stream",
     "text": [
      "Training VQC:  57%|█████▋    | 17/30 [00:42<00:31,  2.42s/it]"
     ]
    },
    {
     "name": "stdout",
     "output_type": "stream",
     "text": [
      "Epoch 17: Train Accuracy = 0.825\n"
     ]
    },
    {
     "name": "stderr",
     "output_type": "stream",
     "text": [
      "Training VQC:  60%|██████    | 18/30 [00:45<00:32,  2.72s/it]"
     ]
    },
    {
     "name": "stdout",
     "output_type": "stream",
     "text": [
      "Epoch 18: Train Accuracy = 0.825\n"
     ]
    },
    {
     "name": "stderr",
     "output_type": "stream",
     "text": [
      "Training VQC:  63%|██████▎   | 19/30 [00:48<00:29,  2.66s/it]"
     ]
    },
    {
     "name": "stdout",
     "output_type": "stream",
     "text": [
      "Epoch 19: Train Accuracy = 0.825\n"
     ]
    },
    {
     "name": "stderr",
     "output_type": "stream",
     "text": [
      "Training VQC:  67%|██████▋   | 20/30 [00:50<00:25,  2.51s/it]"
     ]
    },
    {
     "name": "stdout",
     "output_type": "stream",
     "text": [
      "Epoch 20: Train Accuracy = 0.825\n"
     ]
    },
    {
     "name": "stderr",
     "output_type": "stream",
     "text": [
      "Training VQC:  70%|███████   | 21/30 [00:52<00:21,  2.43s/it]"
     ]
    },
    {
     "name": "stdout",
     "output_type": "stream",
     "text": [
      "Epoch 21: Train Accuracy = 0.825\n"
     ]
    },
    {
     "name": "stderr",
     "output_type": "stream",
     "text": [
      "Training VQC:  73%|███████▎  | 22/30 [00:55<00:19,  2.41s/it]"
     ]
    },
    {
     "name": "stdout",
     "output_type": "stream",
     "text": [
      "Epoch 22: Train Accuracy = 0.825\n"
     ]
    },
    {
     "name": "stderr",
     "output_type": "stream",
     "text": [
      "Training VQC:  77%|███████▋  | 23/30 [00:57<00:17,  2.48s/it]"
     ]
    },
    {
     "name": "stdout",
     "output_type": "stream",
     "text": [
      "Epoch 23: Train Accuracy = 0.825\n"
     ]
    },
    {
     "name": "stderr",
     "output_type": "stream",
     "text": [
      "Training VQC:  80%|████████  | 24/30 [01:00<00:14,  2.45s/it]"
     ]
    },
    {
     "name": "stdout",
     "output_type": "stream",
     "text": [
      "Epoch 24: Train Accuracy = 0.825\n"
     ]
    },
    {
     "name": "stderr",
     "output_type": "stream",
     "text": [
      "Training VQC:  83%|████████▎ | 25/30 [01:02<00:11,  2.35s/it]"
     ]
    },
    {
     "name": "stdout",
     "output_type": "stream",
     "text": [
      "Epoch 25: Train Accuracy = 0.825\n"
     ]
    },
    {
     "name": "stderr",
     "output_type": "stream",
     "text": [
      "Training VQC:  87%|████████▋ | 26/30 [01:04<00:09,  2.44s/it]"
     ]
    },
    {
     "name": "stdout",
     "output_type": "stream",
     "text": [
      "Epoch 26: Train Accuracy = 0.825\n"
     ]
    },
    {
     "name": "stderr",
     "output_type": "stream",
     "text": [
      "Training VQC:  90%|█████████ | 27/30 [01:08<00:08,  2.76s/it]"
     ]
    },
    {
     "name": "stdout",
     "output_type": "stream",
     "text": [
      "Epoch 27: Train Accuracy = 0.825\n"
     ]
    },
    {
     "name": "stderr",
     "output_type": "stream",
     "text": [
      "Training VQC:  93%|█████████▎| 28/30 [01:12<00:06,  3.24s/it]"
     ]
    },
    {
     "name": "stdout",
     "output_type": "stream",
     "text": [
      "Epoch 28: Train Accuracy = 0.825\n"
     ]
    },
    {
     "name": "stderr",
     "output_type": "stream",
     "text": [
      "Training VQC:  97%|█████████▋| 29/30 [01:16<00:03,  3.49s/it]"
     ]
    },
    {
     "name": "stdout",
     "output_type": "stream",
     "text": [
      "Epoch 29: Train Accuracy = 0.825\n"
     ]
    },
    {
     "name": "stderr",
     "output_type": "stream",
     "text": [
      "Training VQC: 100%|██████████| 30/30 [01:20<00:00,  2.67s/it]\n"
     ]
    },
    {
     "name": "stdout",
     "output_type": "stream",
     "text": [
      "Epoch 30: Train Accuracy = 0.825\n",
      "\n",
      "Test Accuracy: 0.7943332938855319\n"
     ]
    },
    {
     "name": "stderr",
     "output_type": "stream",
     "text": [
      "c:\\Users\\priya\\AppData\\Local\\Programs\\Python\\Python310\\lib\\site-packages\\sklearn\\metrics\\_classification.py:1706: UndefinedMetricWarning: Precision is ill-defined and being set to 0.0 in labels with no predicted samples. Use `zero_division` parameter to control this behavior.\n",
      "  _warn_prf(average, modifier, f\"{metric.capitalize()} is\", result.shape[0])\n",
      "c:\\Users\\priya\\AppData\\Local\\Programs\\Python\\Python310\\lib\\site-packages\\sklearn\\metrics\\_classification.py:1706: UndefinedMetricWarning: Precision is ill-defined and being set to 0.0 in labels with no predicted samples. Use `zero_division` parameter to control this behavior.\n",
      "  _warn_prf(average, modifier, f\"{metric.capitalize()} is\", result.shape[0])\n"
     ]
    },
    {
     "name": "stdout",
     "output_type": "stream",
     "text": [
      "\n",
      "Classification Report:\n",
      "                             precision    recall  f1-score   support\n",
      "\n",
      "                    BENIGN       0.83      0.95      0.89    471812\n",
      "                       Bot       0.00      0.00      0.00       373\n",
      "                      DDoS       0.00      0.00      0.00      8424\n",
      "             DoS GoldenEye       0.00      0.00      0.00      1988\n",
      "                  DoS Hulk       0.00      0.00      0.00     46154\n",
      "          DoS Slowhttptest       0.00      0.00      0.00      1102\n",
      "             DoS slowloris       0.00      0.00      0.00      1148\n",
      "               FTP-Patator       0.00      0.00      0.00      1599\n",
      "                Heartbleed       0.00      0.00      0.00         3\n",
      "              Infiltration       0.00      0.00      0.00         7\n",
      "                  PortScan       0.00      0.00      0.00     31948\n",
      "               SSH-Patator       0.00      0.00      0.00      1162\n",
      "  Web Attack - Brute Force       0.00      0.00      0.00       294\n",
      "Web Attack - Sql Injection       0.00      0.00      0.00         3\n",
      "          Web Attack - XSS       0.00      0.00      0.00       132\n",
      "\n",
      "                  accuracy                           0.79    566149\n",
      "                 macro avg       0.06      0.06      0.06    566149\n",
      "              weighted avg       0.69      0.79      0.74    566149\n",
      "\n",
      "Time taken: 2985.06 seconds\n"
     ]
    },
    {
     "name": "stderr",
     "output_type": "stream",
     "text": [
      "c:\\Users\\priya\\AppData\\Local\\Programs\\Python\\Python310\\lib\\site-packages\\sklearn\\metrics\\_classification.py:1706: UndefinedMetricWarning: Precision is ill-defined and being set to 0.0 in labels with no predicted samples. Use `zero_division` parameter to control this behavior.\n",
      "  _warn_prf(average, modifier, f\"{metric.capitalize()} is\", result.shape[0])\n"
     ]
    }
   ],
   "source": [
    "import pandas as pd\n",
    "import joblib\n",
    "from tqdm import tqdm\n",
    "import os\n",
    "import time\n",
    "\n",
    "import pennylane as qml\n",
    "from pennylane import numpy as np\n",
    "import pennylane.numpy as pnp\n",
    "\n",
    "from sklearn.preprocessing import LabelEncoder, MinMaxScaler\n",
    "from sklearn.model_selection import train_test_split\n",
    "from sklearn.metrics import classification_report, accuracy_score\n",
    "from sklearn.decomposition import PCA\n",
    "\n",
    "start_time = time.time()\n",
    "\n",
    "#Load dataset\n",
    "data = pd.read_csv(\"mergedTop20.csv\")\n",
    "\n",
    "# Label encoding\n",
    "label_encoder = LabelEncoder()\n",
    "data['Label'] = label_encoder.fit_transform(data['Label'])\n",
    "\n",
    "X = data.drop(\"Label\", axis=1).values\n",
    "y = data[\"Label\"].values\n",
    "\n",
    "# PCA → reduce to number of qubits\n",
    "n_qubits = 4\n",
    "pca = PCA(n_components=n_qubits)\n",
    "X_reduced = pca.fit_transform(X)\n",
    "\n",
    "# Normalize to [0, 2π]\n",
    "scaler = MinMaxScaler(feature_range=(0, 2 * np.pi))\n",
    "X_scaled = scaler.fit_transform(X_reduced)\n",
    "\n",
    "# Map labels from {0,1} → {−1, 1}\n",
    "y_transformed = 2 * y - 1\n",
    "\n",
    "# Split data\n",
    "X_train, X_test, y_train, y_test = train_test_split(X_scaled, y_transformed, test_size=0.2, random_state=42)\n",
    "\n",
    "# To speed up training\n",
    "X_train = X_train[:200]\n",
    "y_train = y_train[:200]\n",
    "\n",
    "# QUANTUM CIRCUIT\n",
    "dev = qml.device(\"lightning.qubit\", wires=n_qubits)\n",
    "\n",
    "def variational_circuit(x, weights):\n",
    "    qml.AngleEmbedding(x, wires=range(n_qubits), rotation='Y')\n",
    "    qml.StronglyEntanglingLayers(weights, wires=range(n_qubits))\n",
    "\n",
    "@qml.qnode(dev)\n",
    "def circuit(x, weights):\n",
    "    variational_circuit(x, weights)\n",
    "    return qml.expval(qml.PauliZ(0))\n",
    "\n",
    "# Prediction\n",
    "def predict(weights, X):\n",
    "    preds = [np.sign(circuit(x, weights)) for x in X]\n",
    "    return np.array([(1 if p >= 0 else -1) for p in preds])\n",
    "\n",
    "def cost(weights, X, y):\n",
    "    losses = [qml.math.square(circuit(x, weights) - y_i) for x, y_i in zip(X, y)]\n",
    "    return qml.math.mean(pnp.stack(losses))\n",
    "\n",
    "# TRAINING\n",
    "layers = 1\n",
    "weights_init = 0.01 * np.random.randn(layers, n_qubits, 3)\n",
    "opt = qml.AdamOptimizer(stepsize=0.01)\n",
    "weights = weights_init.copy()\n",
    "\n",
    "epochs = 30\n",
    "for epoch in tqdm(range(epochs), desc=\"Training VQC\"):\n",
    "    weights = opt.step(lambda w: cost(w, X_train, y_train), weights)\n",
    "    train_preds = predict(weights, X_train)\n",
    "    acc = accuracy_score((y_train + 1) // 2, (train_preds + 1) // 2)\n",
    "    tqdm.write(f\"Epoch {epoch+1}: Train Accuracy = {acc:.3f}\")\n",
    "\n",
    "#Evaluation\n",
    "test_preds = predict(weights, X_test)\n",
    "\n",
    "# Convert predictions from {-1, 1} → {0, 1}\n",
    "test_preds_orig = (test_preds + 1) // 2\n",
    "y_test_orig = (y_test + 1) // 2\n",
    "\n",
    "test_acc = accuracy_score(y_test_orig, test_preds_orig)\n",
    "print(\"\\nTest Accuracy:\", test_acc)\n",
    "from sklearn.utils.multiclass import unique_labels\n",
    "\n",
    "all_labels = list(label_encoder.transform(label_encoder.classes_))  # [0, 1, ..., n]\n",
    "print(\"\\nClassification Report:\\n\", classification_report(\n",
    "    y_test_orig, \n",
    "    test_preds_orig, \n",
    "    labels=all_labels, \n",
    "    target_names=label_encoder.classes_\n",
    "))\n",
    "\n",
    "save_dir = \"Pennylane_Result_vqc\"\n",
    "os.makedirs(save_dir, exist_ok=True)\n",
    "\n",
    "np.save(os.path.join(save_dir, \"vqc_weights.npy\"), weights)\n",
    "joblib.dump(scaler, os.path.join(save_dir, \"vqc_scaler.pkl\"))\n",
    "joblib.dump(pca, os.path.join(save_dir, \"vqc_pca.pkl\"))\n",
    "joblib.dump(label_encoder, os.path.join(save_dir, \"vqc_label_encoder.pkl\"))\n",
    "\n",
    "print(\"Time taken:\", round(time.time() - start_time, 2), \"seconds\")\n"
   ]
  }
 ],
 "metadata": {
  "kernelspec": {
   "display_name": "Python 3",
   "language": "python",
   "name": "python3"
  },
  "language_info": {
   "codemirror_mode": {
    "name": "ipython",
    "version": 3
   },
   "file_extension": ".py",
   "mimetype": "text/x-python",
   "name": "python",
   "nbconvert_exporter": "python",
   "pygments_lexer": "ipython3",
   "version": "3.10.0"
  }
 },
 "nbformat": 4,
 "nbformat_minor": 5
}
