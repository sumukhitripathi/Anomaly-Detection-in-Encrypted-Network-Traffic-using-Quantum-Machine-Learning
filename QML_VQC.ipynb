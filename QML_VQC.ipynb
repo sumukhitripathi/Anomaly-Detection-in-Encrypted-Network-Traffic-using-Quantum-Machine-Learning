{
  "nbformat": 4,
  "nbformat_minor": 0,
  "metadata": {
    "colab": {
      "provenance": []
    },
    "kernelspec": {
      "name": "python3",
      "display_name": "Python 3"
    },
    "language_info": {
      "name": "python"
    }
  },
  "cells": [
    {
      "cell_type": "code",
      "execution_count": 2,
      "metadata": {
        "colab": {
          "base_uri": "https://localhost:8080/"
        },
        "id": "Em7TOcgCiJYY",
        "outputId": "0a2b2699-2608-4b22-c1c2-764fd4706889"
      },
      "outputs": [
        {
          "output_type": "stream",
          "name": "stdout",
          "text": [
            "\u001b[2K   \u001b[90m━━━━━━━━━━━━━━━━━━━━━━━━━━━━━━━━━━━━━━━━\u001b[0m \u001b[32m231.9/231.9 kB\u001b[0m \u001b[31m13.6 MB/s\u001b[0m eta \u001b[36m0:00:00\u001b[0m\n",
            "\u001b[2K   \u001b[90m━━━━━━━━━━━━━━━━━━━━━━━━━━━━━━━━━━━━━━━━\u001b[0m \u001b[32m6.8/6.8 MB\u001b[0m \u001b[31m41.9 MB/s\u001b[0m eta \u001b[36m0:00:00\u001b[0m\n",
            "\u001b[2K   \u001b[90m━━━━━━━━━━━━━━━━━━━━━━━━━━━━━━━━━━━━━━━━\u001b[0m \u001b[32m12.4/12.4 MB\u001b[0m \u001b[31m43.7 MB/s\u001b[0m eta \u001b[36m0:00:00\u001b[0m\n",
            "\u001b[2K   \u001b[90m━━━━━━━━━━━━━━━━━━━━━━━━━━━━━━━━━━━━━━━━\u001b[0m \u001b[32m310.5/310.5 kB\u001b[0m \u001b[31m23.0 MB/s\u001b[0m eta \u001b[36m0:00:00\u001b[0m\n",
            "\u001b[2K   \u001b[90m━━━━━━━━━━━━━━━━━━━━━━━━━━━━━━━━━━━━━━━━\u001b[0m \u001b[32m2.1/2.1 MB\u001b[0m \u001b[31m38.1 MB/s\u001b[0m eta \u001b[36m0:00:00\u001b[0m\n",
            "\u001b[2K   \u001b[90m━━━━━━━━━━━━━━━━━━━━━━━━━━━━━━━━━━━━━━━━\u001b[0m \u001b[32m49.5/49.5 kB\u001b[0m \u001b[31m4.2 MB/s\u001b[0m eta \u001b[36m0:00:00\u001b[0m\n",
            "\u001b[2K   \u001b[90m━━━━━━━━━━━━━━━━━━━━━━━━━━━━━━━━━━━━━━━━\u001b[0m \u001b[32m49.7/49.7 MB\u001b[0m \u001b[31m10.0 MB/s\u001b[0m eta \u001b[36m0:00:00\u001b[0m\n",
            "\u001b[2K   \u001b[90m━━━━━━━━━━━━━━━━━━━━━━━━━━━━━━━━━━━━━━━━\u001b[0m \u001b[32m109.0/109.0 kB\u001b[0m \u001b[31m7.4 MB/s\u001b[0m eta \u001b[36m0:00:00\u001b[0m\n",
            "\u001b[?25h"
          ]
        }
      ],
      "source": [
        "!pip install -q numpy pandas scikit-learn joblib\n",
        "!pip install -q qiskit qiskit-machine-learning qiskit-aer qiskit-algorithms"
      ]
    },
    {
      "cell_type": "code",
      "source": [
        "from google.colab import drive\n",
        "drive.mount('/content/drive')"
      ],
      "metadata": {
        "colab": {
          "base_uri": "https://localhost:8080/"
        },
        "id": "KeEC9larOO4g",
        "outputId": "551a3aa2-ecdd-4ec6-b3bf-339217c7b1fa"
      },
      "execution_count": 6,
      "outputs": [
        {
          "output_type": "stream",
          "name": "stdout",
          "text": [
            "Mounted at /content/drive\n"
          ]
        }
      ]
    },
    {
      "cell_type": "code",
      "source": [
        "import numpy as np\n",
        "import pandas as pd\n",
        "import joblib\n",
        "import time\n",
        "import warnings\n",
        "import os\n",
        "\n",
        "from sklearn.preprocessing import MinMaxScaler\n",
        "from sklearn.model_selection import train_test_split\n",
        "from sklearn.metrics import classification_report\n",
        "from sklearn.decomposition import PCA\n",
        "\n",
        "from qiskit.circuit.library import ZZFeatureMap, TwoLocal\n",
        "from qiskit_machine_learning.algorithms.classifiers import VQC\n",
        "from qiskit_algorithms.optimizers import COBYLA\n",
        "from qiskit_aer import AerSimulator\n",
        "from qiskit.primitives import BackendSampler\n",
        "\n",
        "# Setup\n",
        "warnings.filterwarnings('ignore')\n",
        "os.makedirs(\"Result\", exist_ok=True)\n",
        "start_time = time.time()\n",
        "\n",
        "# Load Dataset\n",
        "df = pd.read_csv('/content/drive/My Drive/merged.csv')\n",
        "\n",
        "# Select features\n",
        "cols = [\"Bwd Packet Length Std\", \"Flow Bytes/s\", \"Total Length of Fwd Packets\", \"Fwd Packet Length Std\",\n",
        "        \"Flow IAT Std\", \"Flow IAT Min\", \"Fwd IAT Total\", \"Flow Duration\", \"Bwd Packet Length Max\",\n",
        "        \"Flow IAT Max\", \"Flow IAT Mean\", \"Total Length of Bwd Packets\", \"Fwd Packet Length Min\",\n",
        "        \"Bwd Packet Length Mean\", \"Flow Packets/s\", \"Fwd Packet Length Mean\", \"Total Backward Packets\",\n",
        "        \"Fwd Packet Length Max\", \"Total Fwd Packets\", \"Bwd Packet Length Min\", 'Label']\n",
        "\n",
        "df = df[cols].fillna(0)\n",
        "df['Label'] = df['Label'].apply(lambda x: 1 if x == \"BENIGN\" else 0)\n",
        "\n",
        "# Limit size and balance dataset manually\n",
        "benign_df = df[df['Label'] == 1].sample(n=400, random_state=42)\n",
        "attack_df = df[df['Label'] == 0].sample(n=400, random_state=42)\n",
        "balanced_df = pd.concat([benign_df, attack_df]).sample(frac=1, random_state=42)\n",
        "\n",
        "x = balanced_df.drop(\"Label\", axis=1)\n",
        "y = balanced_df[\"Label\"]\n",
        "\n",
        "# Normalize\n",
        "scaler = MinMaxScaler()\n",
        "x_scaled = scaler.fit_transform(x)\n",
        "\n",
        "# Reduce dimensions\n",
        "pca = PCA(n_components=4)\n",
        "x_pca = pca.fit_transform(x_scaled)\n",
        "\n",
        "# Small balanced subset for quick training\n",
        "x_train, x_test, y_train, y_test = train_test_split(\n",
        "    x_pca, y, train_size=0.8, stratify=y, random_state=42)\n",
        "\n",
        "# Quantum Classifier Setup\n",
        "num_qubits = x_pca.shape[1]\n",
        "feature_map = ZZFeatureMap(feature_dimension=num_qubits, reps=2)\n",
        "ansatz = TwoLocal(num_qubits, ['ry', 'rz'], 'cz', reps=2)\n",
        "optimizer = COBYLA(maxiter=100)\n",
        "\n",
        "backend = AerSimulator()\n",
        "sampler = BackendSampler(backend)\n",
        "\n",
        "vqc = VQC(\n",
        "    feature_map=feature_map,\n",
        "    ansatz=ansatz,\n",
        "    optimizer=optimizer,\n",
        "    sampler=sampler\n",
        ")\n",
        "\n",
        "print(\"Training VQC...\")\n",
        "vqc.fit(np.asarray(x_train), np.asarray(y_train))\n",
        "\n",
        "# Predict and evaluate\n",
        "y_pred = vqc.predict(np.asarray(x_test))\n",
        "\n",
        "print(\"\\nClassification Report:\")\n",
        "print(classification_report(y_test, y_pred))\n",
        "\n",
        "# Save artifacts\n",
        "joblib.dump(scaler, \"Result/vqc_scaler.pkl\")\n",
        "joblib.dump(pca, \"Result/vqc_pca_transform.pkl\")\n",
        "joblib.dump(cols[:-1], \"Result/vqc_features_used.pkl\")\n",
        "\n",
        "print(\"\\nTotal Time Taken: %.2f seconds\" % (time.time() - start_time))\n"
      ],
      "metadata": {
        "colab": {
          "base_uri": "https://localhost:8080/"
        },
        "id": "E0QyggOtUWQw",
        "outputId": "bd55d7f6-fec5-454f-be07-8e8223781ebb"
      },
      "execution_count": 11,
      "outputs": [
        {
          "output_type": "stream",
          "name": "stdout",
          "text": [
            "Training VQC...\n",
            "\n",
            "Classification Report:\n",
            "              precision    recall  f1-score   support\n",
            "\n",
            "           0       0.72      0.76      0.74        80\n",
            "           1       0.75      0.70      0.72        80\n",
            "\n",
            "    accuracy                           0.73       160\n",
            "   macro avg       0.73      0.73      0.73       160\n",
            "weighted avg       0.73      0.73      0.73       160\n",
            "\n",
            "\n",
            "Total Time Taken: 507.47 seconds\n"
          ]
        }
      ]
    }
  ]
}